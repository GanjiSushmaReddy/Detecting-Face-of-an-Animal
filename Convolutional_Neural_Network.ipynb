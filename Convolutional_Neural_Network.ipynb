{
 "cells": [
  {
   "cell_type": "markdown",
   "id": "99fb9127",
   "metadata": {},
   "source": [
    "# Convolutional Neural Network"
   ]
  },
  {
   "cell_type": "markdown",
   "id": "9ea64675",
   "metadata": {},
   "source": [
    "### Importing the Libraries"
   ]
  },
  {
   "cell_type": "code",
   "execution_count": 1,
   "id": "a56a79ca",
   "metadata": {},
   "outputs": [
    {
     "data": {
      "text/plain": [
       "'2.9.1'"
      ]
     },
     "execution_count": 1,
     "metadata": {},
     "output_type": "execute_result"
    }
   ],
   "source": [
    "import tensorflow as tf\n",
    "from keras.preprocessing.image import ImageDataGenerator\n",
    "tf.__version__"
   ]
  },
  {
   "cell_type": "markdown",
   "id": "02bebca7",
   "metadata": {},
   "source": [
    "## PART-1: Data Preprocessing"
   ]
  },
  {
   "cell_type": "markdown",
   "id": "0e324b9b",
   "metadata": {},
   "source": [
    "### Preprocessing the Training set"
   ]
  },
  {
   "cell_type": "code",
   "execution_count": 2,
   "id": "172f3781",
   "metadata": {},
   "outputs": [
    {
     "name": "stdout",
     "output_type": "stream",
     "text": [
      "Found 8000 images belonging to 2 classes.\n"
     ]
    }
   ],
   "source": [
    "train_datagen = ImageDataGenerator(rescale = 1./255, #Feature scaling\n",
    "                                   shear_range = 0.2, # to avoid overfitting, we do this to get a new diverse picture\n",
    "                                   zoom_range = 0.2,\n",
    "                                   horizontal_flip = True)\n",
    "training_set = train_datagen.flow_from_directory('dataset/training_set',\n",
    "                                                 target_size = (64, 64),\n",
    "                                                 batch_size = 32,\n",
    "                                                 class_mode = 'binary')"
   ]
  },
  {
   "cell_type": "markdown",
   "id": "51f0218b",
   "metadata": {},
   "source": [
    "### Preprocessing the Test set"
   ]
  },
  {
   "cell_type": "code",
   "execution_count": 3,
   "id": "88d83cab",
   "metadata": {},
   "outputs": [
    {
     "name": "stdout",
     "output_type": "stream",
     "text": [
      "Found 2000 images belonging to 2 classes.\n"
     ]
    }
   ],
   "source": [
    "test_datagen = ImageDataGenerator(rescale = 1./255) # because test set is for testing\n",
    "test_set = test_datagen.flow_from_directory('dataset/test_set',\n",
    "                                            target_size = (64, 64),\n",
    "                                            batch_size = 32,\n",
    "                                            class_mode = 'binary')"
   ]
  },
  {
   "cell_type": "markdown",
   "id": "9cd2d1a7",
   "metadata": {},
   "source": [
    "## PART-2: Building the CNN"
   ]
  },
  {
   "cell_type": "markdown",
   "id": "bb6874d0",
   "metadata": {},
   "source": [
    "### Initializing the CNN"
   ]
  },
  {
   "cell_type": "code",
   "execution_count": 4,
   "id": "6f30f9d2",
   "metadata": {},
   "outputs": [
    {
     "name": "stderr",
     "output_type": "stream",
     "text": [
      "2022-07-29 12:14:00.106095: I tensorflow/core/platform/cpu_feature_guard.cc:193] This TensorFlow binary is optimized with oneAPI Deep Neural Network Library (oneDNN) to use the following CPU instructions in performance-critical operations:  AVX2 FMA\n",
      "To enable them in other operations, rebuild TensorFlow with the appropriate compiler flags.\n"
     ]
    }
   ],
   "source": [
    "cnn = tf.keras.models.Sequential()"
   ]
  },
  {
   "cell_type": "markdown",
   "id": "acd9a83e",
   "metadata": {},
   "source": [
    "### Step-1: Convolution"
   ]
  },
  {
   "cell_type": "code",
   "execution_count": 5,
   "id": "1263fa37",
   "metadata": {},
   "outputs": [],
   "source": [
    "cnn.add(tf.keras.layers.Conv2D(filters=32, kernel_size=3, activation='relu', input_shape=[64, 64, 3]))# filters = no. of feature detectors, kernel_size=size of feature detector"
   ]
  },
  {
   "cell_type": "markdown",
   "id": "5fc14434",
   "metadata": {},
   "source": [
    "### Step-2: Pooling"
   ]
  },
  {
   "cell_type": "code",
   "execution_count": 6,
   "id": "ae3f29de",
   "metadata": {},
   "outputs": [],
   "source": [
    "cnn.add(tf.keras.layers.MaxPool2D(pool_size=2, strides=2))#strides= slides ,pool_size= size of matrix"
   ]
  },
  {
   "cell_type": "markdown",
   "id": "526fec8b",
   "metadata": {},
   "source": [
    "### Adding a second convolutional layer"
   ]
  },
  {
   "cell_type": "code",
   "execution_count": 7,
   "id": "dd557285",
   "metadata": {},
   "outputs": [],
   "source": [
    "cnn.add(tf.keras.layers.Conv2D(filters=32, kernel_size=3, activation='relu'))# filters = no. of feature detectors, kernel_size=size of feature detector\n",
    "cnn.add(tf.keras.layers.MaxPool2D(pool_size=2, strides=2))#strides= slides ,pool_size= size of matrix"
   ]
  },
  {
   "cell_type": "markdown",
   "id": "5daf0432",
   "metadata": {},
   "source": [
    "### Step-3: Flattening"
   ]
  },
  {
   "cell_type": "code",
   "execution_count": 8,
   "id": "3bb4bc60",
   "metadata": {},
   "outputs": [],
   "source": [
    "cnn.add(tf.keras.layers.Flatten())"
   ]
  },
  {
   "cell_type": "markdown",
   "id": "2651a767",
   "metadata": {},
   "source": [
    "### Step-4: Full Connection"
   ]
  },
  {
   "cell_type": "code",
   "execution_count": 9,
   "id": "2a2881a0",
   "metadata": {},
   "outputs": [],
   "source": [
    "cnn.add(tf.keras.layers.Dense(units=128, activation='relu'))"
   ]
  },
  {
   "cell_type": "markdown",
   "id": "8a435b6e",
   "metadata": {},
   "source": [
    "### Step-5: Output Layer"
   ]
  },
  {
   "cell_type": "code",
   "execution_count": 10,
   "id": "07c555d9",
   "metadata": {},
   "outputs": [],
   "source": [
    "cnn.add(tf.keras.layers.Dense(units=1, activation='sigmoid'))"
   ]
  },
  {
   "cell_type": "markdown",
   "id": "ea612be5",
   "metadata": {},
   "source": [
    "## PART-3: Training the CNN"
   ]
  },
  {
   "cell_type": "markdown",
   "id": "22e75e33",
   "metadata": {},
   "source": [
    "### Compiling the CNN"
   ]
  },
  {
   "cell_type": "code",
   "execution_count": 11,
   "id": "4d083d4c",
   "metadata": {},
   "outputs": [],
   "source": [
    "cnn.compile(optimizer = 'adam', loss = 'binary_crossentropy', metrics = ['accuracy'])"
   ]
  },
  {
   "cell_type": "markdown",
   "id": "aec6c176",
   "metadata": {},
   "source": [
    "### Training the CNN on the Training set and evaluating it on the Test set"
   ]
  },
  {
   "cell_type": "code",
   "execution_count": 12,
   "id": "2c7c9eb2",
   "metadata": {},
   "outputs": [
    {
     "name": "stdout",
     "output_type": "stream",
     "text": [
      "Epoch 1/25\n",
      "250/250 [==============================] - 38s 152ms/step - loss: 0.6622 - accuracy: 0.6040 - val_loss: 0.6164 - val_accuracy: 0.6560\n",
      "Epoch 2/25\n",
      "250/250 [==============================] - 30s 121ms/step - loss: 0.5967 - accuracy: 0.6790 - val_loss: 0.6260 - val_accuracy: 0.6535\n",
      "Epoch 3/25\n",
      "250/250 [==============================] - 33s 131ms/step - loss: 0.5482 - accuracy: 0.7220 - val_loss: 0.5180 - val_accuracy: 0.7560\n",
      "Epoch 4/25\n",
      "250/250 [==============================] - 32s 128ms/step - loss: 0.5121 - accuracy: 0.7506 - val_loss: 0.5609 - val_accuracy: 0.7220\n",
      "Epoch 5/25\n",
      "250/250 [==============================] - 31s 125ms/step - loss: 0.5007 - accuracy: 0.7563 - val_loss: 0.5004 - val_accuracy: 0.7635\n",
      "Epoch 6/25\n",
      "250/250 [==============================] - 31s 124ms/step - loss: 0.4684 - accuracy: 0.7716 - val_loss: 0.4770 - val_accuracy: 0.7755\n",
      "Epoch 7/25\n",
      "250/250 [==============================] - 31s 125ms/step - loss: 0.4460 - accuracy: 0.7881 - val_loss: 0.4821 - val_accuracy: 0.7750\n",
      "Epoch 8/25\n",
      "250/250 [==============================] - 32s 127ms/step - loss: 0.4434 - accuracy: 0.7897 - val_loss: 0.4983 - val_accuracy: 0.7750\n",
      "Epoch 9/25\n",
      "250/250 [==============================] - 32s 127ms/step - loss: 0.4244 - accuracy: 0.7990 - val_loss: 0.4593 - val_accuracy: 0.7855\n",
      "Epoch 10/25\n",
      "250/250 [==============================] - 33s 132ms/step - loss: 0.4053 - accuracy: 0.8136 - val_loss: 0.4547 - val_accuracy: 0.7895\n",
      "Epoch 11/25\n",
      "250/250 [==============================] - 32s 128ms/step - loss: 0.4106 - accuracy: 0.8046 - val_loss: 0.4280 - val_accuracy: 0.8025\n",
      "Epoch 12/25\n",
      "250/250 [==============================] - 31s 126ms/step - loss: 0.3913 - accuracy: 0.8210 - val_loss: 0.4464 - val_accuracy: 0.7975\n",
      "Epoch 13/25\n",
      "250/250 [==============================] - 32s 126ms/step - loss: 0.3823 - accuracy: 0.8230 - val_loss: 0.4647 - val_accuracy: 0.8055\n",
      "Epoch 14/25\n",
      "250/250 [==============================] - 33s 131ms/step - loss: 0.3687 - accuracy: 0.8361 - val_loss: 0.5094 - val_accuracy: 0.7775\n",
      "Epoch 15/25\n",
      "250/250 [==============================] - 33s 132ms/step - loss: 0.3621 - accuracy: 0.8381 - val_loss: 0.4536 - val_accuracy: 0.8075\n",
      "Epoch 16/25\n",
      "250/250 [==============================] - 32s 129ms/step - loss: 0.3569 - accuracy: 0.8364 - val_loss: 0.4365 - val_accuracy: 0.8045\n",
      "Epoch 17/25\n",
      "250/250 [==============================] - 32s 130ms/step - loss: 0.3376 - accuracy: 0.8540 - val_loss: 0.4291 - val_accuracy: 0.8145\n",
      "Epoch 18/25\n",
      "250/250 [==============================] - 33s 131ms/step - loss: 0.3306 - accuracy: 0.8512 - val_loss: 0.4594 - val_accuracy: 0.7975\n",
      "Epoch 19/25\n",
      "250/250 [==============================] - 34s 136ms/step - loss: 0.3298 - accuracy: 0.8515 - val_loss: 0.4567 - val_accuracy: 0.8030\n",
      "Epoch 20/25\n",
      "250/250 [==============================] - 34s 135ms/step - loss: 0.3103 - accuracy: 0.8639 - val_loss: 0.4863 - val_accuracy: 0.7915\n",
      "Epoch 21/25\n",
      "250/250 [==============================] - 35s 139ms/step - loss: 0.3033 - accuracy: 0.8671 - val_loss: 0.4320 - val_accuracy: 0.8045\n",
      "Epoch 22/25\n",
      "250/250 [==============================] - 33s 131ms/step - loss: 0.3044 - accuracy: 0.8655 - val_loss: 0.5024 - val_accuracy: 0.7880\n",
      "Epoch 23/25\n",
      "250/250 [==============================] - 33s 131ms/step - loss: 0.2892 - accuracy: 0.8754 - val_loss: 0.4946 - val_accuracy: 0.7930\n",
      "Epoch 24/25\n",
      "250/250 [==============================] - 33s 133ms/step - loss: 0.2824 - accuracy: 0.8789 - val_loss: 0.4579 - val_accuracy: 0.8140\n",
      "Epoch 25/25\n",
      "250/250 [==============================] - 33s 132ms/step - loss: 0.2759 - accuracy: 0.8810 - val_loss: 0.4844 - val_accuracy: 0.7930\n"
     ]
    },
    {
     "data": {
      "text/plain": [
       "<keras.callbacks.History at 0x1524bcbe0>"
      ]
     },
     "execution_count": 12,
     "metadata": {},
     "output_type": "execute_result"
    }
   ],
   "source": [
    "cnn.fit(x = training_set, validation_data = test_set, epochs = 25)#training on x and testing on validation data"
   ]
  },
  {
   "cell_type": "markdown",
   "id": "84fb6bfd",
   "metadata": {},
   "source": [
    "## PART-4: Making a single Prediction"
   ]
  },
  {
   "cell_type": "code",
   "execution_count": 13,
   "id": "7f944a54",
   "metadata": {},
   "outputs": [
    {
     "name": "stdout",
     "output_type": "stream",
     "text": [
      "1/1 [==============================] - 0s 80ms/step\n"
     ]
    }
   ],
   "source": [
    "import numpy as np\n",
    "from keras.preprocessing import image\n",
    "test_image = tf.keras.utils.load_img('dataset/single_prediction/cat_or_dog_1.jpg', target_size = (64, 64))\n",
    "test_image = tf.keras.utils.img_to_array(test_image)\n",
    "test_image = np.expand_dims(test_image, axis = 0)\n",
    "result = cnn.predict(test_image)\n",
    "training_set.class_indices\n",
    "if result[0][0] == 1:\n",
    "  prediction = 'dog'\n",
    "else:\n",
    "  prediction = 'cat'"
   ]
  },
  {
   "cell_type": "code",
   "execution_count": 14,
   "id": "97528e6e",
   "metadata": {},
   "outputs": [
    {
     "name": "stdout",
     "output_type": "stream",
     "text": [
      "dog\n"
     ]
    }
   ],
   "source": [
    "print(prediction)"
   ]
  },
  {
   "cell_type": "code",
   "execution_count": null,
   "id": "19aa7629",
   "metadata": {},
   "outputs": [],
   "source": []
  }
 ],
 "metadata": {
  "kernelspec": {
   "display_name": "Python 3 (ipykernel)",
   "language": "python",
   "name": "python3"
  },
  "language_info": {
   "codemirror_mode": {
    "name": "ipython",
    "version": 3
   },
   "file_extension": ".py",
   "mimetype": "text/x-python",
   "name": "python",
   "nbconvert_exporter": "python",
   "pygments_lexer": "ipython3",
   "version": "3.10.2"
  }
 },
 "nbformat": 4,
 "nbformat_minor": 5
}
