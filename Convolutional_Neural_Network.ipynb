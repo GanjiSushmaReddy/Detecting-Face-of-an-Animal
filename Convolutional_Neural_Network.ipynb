{
 "cells": [
  {
   "cell_type": "markdown",
   "id": "99fb9127",
   "metadata": {},
   "source": [
    "# Convolutional Neural Network"
   ]
  },
  {
   "cell_type": "markdown",
   "id": "9ea64675",
   "metadata": {},
   "source": [
    "### Importing the Libraries"
   ]
  },
  {
   "cell_type": "code",
   "execution_count": 1,
   "id": "a56a79ca",
   "metadata": {},
   "outputs": [
    {
     "data": {
      "text/plain": [
       "'2.9.1'"
      ]
     },
     "execution_count": 1,
     "metadata": {},
     "output_type": "execute_result"
    }
   ],
   "source": [
    "import tensorflow as tf\n",
    "from keras.preprocessing.image import ImageDataGenerator\n",
    "tf.__version__"
   ]
  },
  {
   "cell_type": "markdown",
   "id": "02bebca7",
   "metadata": {},
   "source": [
    "## PART-1: Data Preprocessing"
   ]
  },
  {
   "cell_type": "markdown",
   "id": "0e324b9b",
   "metadata": {},
   "source": [
    "### Preprocessing the Training set"
   ]
  },
  {
   "cell_type": "code",
   "execution_count": 2,
   "id": "172f3781",
   "metadata": {},
   "outputs": [
    {
     "name": "stdout",
     "output_type": "stream",
     "text": [
      "Found 8000 images belonging to 2 classes.\n"
     ]
    }
   ],
   "source": [
    "train_datagen = ImageDataGenerator(rescale = 1./255, #Feature scaling\n",
    "                                   shear_range = 0.2, # to avoid overfitting, we do this to get a new diverse picture\n",
    "                                   zoom_range = 0.2,\n",
    "                                   horizontal_flip = True)\n",
    "training_set = train_datagen.flow_from_directory('dataset/training_set',\n",
    "                                                 target_size = (64, 64),\n",
    "                                                 batch_size = 32,\n",
    "                                                 class_mode = 'binary')"
   ]
  },
  {
   "cell_type": "markdown",
   "id": "51f0218b",
   "metadata": {},
   "source": [
    "### Preprocessing the Test set"
   ]
  },
  {
   "cell_type": "code",
   "execution_count": 3,
   "id": "88d83cab",
   "metadata": {},
   "outputs": [
    {
     "name": "stdout",
     "output_type": "stream",
     "text": [
      "Found 2000 images belonging to 2 classes.\n"
     ]
    }
   ],
   "source": [
    "test_datagen = ImageDataGenerator(rescale = 1./255) # because test set is for testing\n",
    "test_set = test_datagen.flow_from_directory('dataset/test_set',\n",
    "                                            target_size = (64, 64),\n",
    "                                            batch_size = 32,\n",
    "                                            class_mode = 'binary')"
   ]
  },
  {
   "cell_type": "markdown",
   "id": "9cd2d1a7",
   "metadata": {},
   "source": [
    "## PART-2: Building the CNN"
   ]
  },
  {
   "cell_type": "markdown",
   "id": "bb6874d0",
   "metadata": {},
   "source": [
    "### Initializing the CNN"
   ]
  },
  {
   "cell_type": "code",
   "execution_count": 4,
   "id": "6f30f9d2",
   "metadata": {},
   "outputs": [
    {
     "name": "stderr",
     "output_type": "stream",
     "text": [
      "2022-07-08 18:42:50.697152: I tensorflow/core/platform/cpu_feature_guard.cc:193] This TensorFlow binary is optimized with oneAPI Deep Neural Network Library (oneDNN) to use the following CPU instructions in performance-critical operations:  AVX2 FMA\n",
      "To enable them in other operations, rebuild TensorFlow with the appropriate compiler flags.\n"
     ]
    }
   ],
   "source": [
    "cnn = tf.keras.models.Sequential()"
   ]
  },
  {
   "cell_type": "markdown",
   "id": "acd9a83e",
   "metadata": {},
   "source": [
    "### Step-1: Convolution"
   ]
  },
  {
   "cell_type": "code",
   "execution_count": 5,
   "id": "1263fa37",
   "metadata": {},
   "outputs": [],
   "source": [
    "cnn.add(tf.keras.layers.Conv2D(filters=32, kernel_size=3, activation='relu', input_shape=[64, 64, 3]))# filters = no. of feature detectors, kernel_size=size of feature detector"
   ]
  },
  {
   "cell_type": "markdown",
   "id": "5fc14434",
   "metadata": {},
   "source": [
    "### Step-2: Pooling"
   ]
  },
  {
   "cell_type": "code",
   "execution_count": 6,
   "id": "ae3f29de",
   "metadata": {},
   "outputs": [],
   "source": [
    "cnn.add(tf.keras.layers.MaxPool2D(pool_size=2, strides=2))#strides= slides ,pool_size= size of matrix"
   ]
  },
  {
   "cell_type": "markdown",
   "id": "526fec8b",
   "metadata": {},
   "source": [
    "### Adding a second convolutional layer"
   ]
  },
  {
   "cell_type": "code",
   "execution_count": 7,
   "id": "dd557285",
   "metadata": {},
   "outputs": [],
   "source": [
    "cnn.add(tf.keras.layers.Conv2D(filters=32, kernel_size=3, activation='relu'))# filters = no. of feature detectors, kernel_size=size of feature detector\n",
    "cnn.add(tf.keras.layers.MaxPool2D(pool_size=2, strides=2))#strides= slides ,pool_size= size of matrix"
   ]
  },
  {
   "cell_type": "markdown",
   "id": "5daf0432",
   "metadata": {},
   "source": [
    "### Step-3: Flattening"
   ]
  },
  {
   "cell_type": "code",
   "execution_count": 8,
   "id": "3bb4bc60",
   "metadata": {},
   "outputs": [],
   "source": [
    "cnn.add(tf.keras.layers.Flatten())"
   ]
  },
  {
   "cell_type": "markdown",
   "id": "2651a767",
   "metadata": {},
   "source": [
    "### Step-4: Full Connection"
   ]
  },
  {
   "cell_type": "code",
   "execution_count": 9,
   "id": "2a2881a0",
   "metadata": {},
   "outputs": [],
   "source": [
    "cnn.add(tf.keras.layers.Dense(units=128, activation='relu'))"
   ]
  },
  {
   "cell_type": "markdown",
   "id": "8a435b6e",
   "metadata": {},
   "source": [
    "### Step-5: Output Layer"
   ]
  },
  {
   "cell_type": "code",
   "execution_count": 10,
   "id": "07c555d9",
   "metadata": {},
   "outputs": [],
   "source": [
    "cnn.add(tf.keras.layers.Dense(units=1, activation='sigmoid'))"
   ]
  },
  {
   "cell_type": "markdown",
   "id": "ea612be5",
   "metadata": {},
   "source": [
    "## PART-3: Training the CNN"
   ]
  },
  {
   "cell_type": "markdown",
   "id": "22e75e33",
   "metadata": {},
   "source": [
    "### Compiling the CNN"
   ]
  },
  {
   "cell_type": "code",
   "execution_count": 11,
   "id": "4d083d4c",
   "metadata": {},
   "outputs": [],
   "source": [
    "cnn.compile(optimizer = 'adam', loss = 'binary_crossentropy', metrics = ['accuracy'])"
   ]
  },
  {
   "cell_type": "markdown",
   "id": "aec6c176",
   "metadata": {},
   "source": [
    "### Training the CNN on the Training set and evaluating it on the Test set"
   ]
  },
  {
   "cell_type": "code",
   "execution_count": null,
   "id": "2c7c9eb2",
   "metadata": {},
   "outputs": [
    {
     "name": "stdout",
     "output_type": "stream",
     "text": [
      "Epoch 1/25\n",
      "250/250 [==============================] - 38s 149ms/step - loss: 0.6718 - accuracy: 0.5842 - val_loss: 0.6396 - val_accuracy: 0.6180\n",
      "Epoch 2/25\n",
      "250/250 [==============================] - 31s 123ms/step - loss: 0.5873 - accuracy: 0.6877 - val_loss: 0.5397 - val_accuracy: 0.7345\n",
      "Epoch 3/25\n",
      "250/250 [==============================] - 32s 126ms/step - loss: 0.5468 - accuracy: 0.7211 - val_loss: 0.5175 - val_accuracy: 0.7370\n",
      "Epoch 4/25\n",
      "250/250 [==============================] - 31s 125ms/step - loss: 0.5226 - accuracy: 0.7366 - val_loss: 0.5135 - val_accuracy: 0.7485\n",
      "Epoch 5/25\n",
      "250/250 [==============================] - 33s 133ms/step - loss: 0.5021 - accuracy: 0.7505 - val_loss: 0.5148 - val_accuracy: 0.7565\n",
      "Epoch 6/25\n",
      "250/250 [==============================] - 35s 139ms/step - loss: 0.4823 - accuracy: 0.7598 - val_loss: 0.4689 - val_accuracy: 0.7815\n",
      "Epoch 7/25\n",
      "250/250 [==============================] - 35s 139ms/step - loss: 0.4598 - accuracy: 0.7812 - val_loss: 0.4742 - val_accuracy: 0.7775\n",
      "Epoch 8/25\n",
      "250/250 [==============================] - 33s 132ms/step - loss: 0.4505 - accuracy: 0.7881 - val_loss: 0.4729 - val_accuracy: 0.7790\n",
      "Epoch 9/25\n",
      "250/250 [==============================] - 35s 140ms/step - loss: 0.4341 - accuracy: 0.7960 - val_loss: 0.5098 - val_accuracy: 0.7435\n",
      "Epoch 10/25\n",
      "250/250 [==============================] - 33s 133ms/step - loss: 0.4293 - accuracy: 0.7987 - val_loss: 0.4936 - val_accuracy: 0.7615\n",
      "Epoch 11/25\n",
      "250/250 [==============================] - 33s 133ms/step - loss: 0.4082 - accuracy: 0.8089 - val_loss: 0.4510 - val_accuracy: 0.7975\n",
      "Epoch 12/25\n",
      "250/250 [==============================] - 34s 136ms/step - loss: 0.3952 - accuracy: 0.8216 - val_loss: 0.4554 - val_accuracy: 0.7900\n",
      "Epoch 13/25\n",
      "250/250 [==============================] - 33s 134ms/step - loss: 0.3828 - accuracy: 0.8255 - val_loss: 0.4412 - val_accuracy: 0.8060\n",
      "Epoch 14/25\n",
      "250/250 [==============================] - 34s 136ms/step - loss: 0.3707 - accuracy: 0.8300 - val_loss: 0.4363 - val_accuracy: 0.8020\n",
      "Epoch 15/25\n",
      "250/250 [==============================] - 34s 135ms/step - loss: 0.3559 - accuracy: 0.8380 - val_loss: 0.4473 - val_accuracy: 0.8010\n",
      "Epoch 16/25\n",
      "250/250 [==============================] - 34s 134ms/step - loss: 0.3441 - accuracy: 0.8490 - val_loss: 0.4611 - val_accuracy: 0.8050\n",
      "Epoch 17/25\n",
      "250/250 [==============================] - 34s 137ms/step - loss: 0.3286 - accuracy: 0.8558 - val_loss: 0.4529 - val_accuracy: 0.8060\n",
      "Epoch 18/25\n",
      "250/250 [==============================] - 34s 135ms/step - loss: 0.3212 - accuracy: 0.8594 - val_loss: 0.4765 - val_accuracy: 0.8030\n",
      "Epoch 19/25\n",
      "250/250 [==============================] - 34s 134ms/step - loss: 0.3098 - accuracy: 0.8589 - val_loss: 0.4560 - val_accuracy: 0.8075\n",
      "Epoch 20/25\n",
      "250/250 [==============================] - 34s 135ms/step - loss: 0.2843 - accuracy: 0.8752 - val_loss: 0.5418 - val_accuracy: 0.7995\n",
      "Epoch 21/25\n",
      "250/250 [==============================] - 35s 138ms/step - loss: 0.2871 - accuracy: 0.8771 - val_loss: 0.4713 - val_accuracy: 0.8045\n",
      "Epoch 22/25\n",
      "250/250 [==============================] - 34s 135ms/step - loss: 0.2761 - accuracy: 0.8809 - val_loss: 0.4777 - val_accuracy: 0.8055\n",
      "Epoch 23/25\n",
      "250/250 [==============================] - 34s 135ms/step - loss: 0.2619 - accuracy: 0.8935 - val_loss: 0.4972 - val_accuracy: 0.8005\n",
      "Epoch 24/25\n",
      "119/250 [=============>................] - ETA: 15s - loss: 0.2420 - accuracy: 0.8986"
     ]
    }
   ],
   "source": [
    "cnn.fit(x = training_set, validation_data = test_set, epochs = 25)#training on x and testing on validation data"
   ]
  },
  {
   "cell_type": "markdown",
   "id": "84fb6bfd",
   "metadata": {},
   "source": [
    "## PART-4: Making a single Prediction"
   ]
  },
  {
   "cell_type": "code",
   "execution_count": null,
   "id": "7f944a54",
   "metadata": {},
   "outputs": [],
   "source": [
    "import numpy as np\n",
    "from keras.preprocessing import image\n",
    "test_image = tf.keras.utils.load_img('dataset/single_prediction/cat_or_dog_1.jpg', target_size = (64, 64))\n",
    "test_image = tf.keras.utils.img_to_array(test_image)\n",
    "test_image = np.expand_dims(test_image, axis = 0)\n",
    "result = cnn.predict(test_image)\n",
    "training_set.class_indices\n",
    "if result[0][0] == 1:\n",
    "  prediction = 'dog'\n",
    "else:\n",
    "  prediction = 'cat'"
   ]
  },
  {
   "cell_type": "code",
   "execution_count": null,
   "id": "97528e6e",
   "metadata": {},
   "outputs": [],
   "source": [
    "print(prediction)"
   ]
  },
  {
   "cell_type": "code",
   "execution_count": null,
   "id": "19aa7629",
   "metadata": {},
   "outputs": [],
   "source": []
  }
 ],
 "metadata": {
  "kernelspec": {
   "display_name": "Python 3 (ipykernel)",
   "language": "python",
   "name": "python3"
  },
  "language_info": {
   "codemirror_mode": {
    "name": "ipython",
    "version": 3
   },
   "file_extension": ".py",
   "mimetype": "text/x-python",
   "name": "python",
   "nbconvert_exporter": "python",
   "pygments_lexer": "ipython3",
   "version": "3.10.2"
  }
 },
 "nbformat": 4,
 "nbformat_minor": 5
}
